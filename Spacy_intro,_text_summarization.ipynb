{
  "nbformat": 4,
  "nbformat_minor": 0,
  "metadata": {
    "colab": {
      "provenance": [],
      "mount_file_id": "1sPgn8CYJPOz-nyVibwApCluieUoFb-nj",
      "authorship_tag": "ABX9TyNJBa0KogusoRrsEfAGL1Fc",
      "include_colab_link": true
    },
    "kernelspec": {
      "name": "python3",
      "display_name": "Python 3"
    },
    "language_info": {
      "name": "python"
    }
  },
  "cells": [
    {
      "cell_type": "markdown",
      "metadata": {
        "id": "view-in-github",
        "colab_type": "text"
      },
      "source": [
        "<a href=\"https://colab.research.google.com/github/samsonkadarikota/NLP-Natural-Language-Processing-/blob/main/Spacy_intro%2C_text_summarization.ipynb\" target=\"_parent\"><img src=\"https://colab.research.google.com/assets/colab-badge.svg\" alt=\"Open In Colab\"/></a>"
      ]
    },
    {
      "cell_type": "code",
      "source": [
        "!pip install spacy\n",
        "!python -m spacy download en_core_web_sm"
      ],
      "metadata": {
        "colab": {
          "base_uri": "https://localhost:8080/"
        },
        "id": "pflGGOp1rnu3",
        "outputId": "e1b95106-599c-482a-94cd-1f31f461e374"
      },
      "execution_count": 4,
      "outputs": [
        {
          "output_type": "stream",
          "name": "stdout",
          "text": [
            "Requirement already satisfied: spacy in /usr/local/lib/python3.11/dist-packages (3.8.7)\n",
            "Requirement already satisfied: spacy-legacy<3.1.0,>=3.0.11 in /usr/local/lib/python3.11/dist-packages (from spacy) (3.0.12)\n",
            "Requirement already satisfied: spacy-loggers<2.0.0,>=1.0.0 in /usr/local/lib/python3.11/dist-packages (from spacy) (1.0.5)\n",
            "Requirement already satisfied: murmurhash<1.1.0,>=0.28.0 in /usr/local/lib/python3.11/dist-packages (from spacy) (1.0.13)\n",
            "Requirement already satisfied: cymem<2.1.0,>=2.0.2 in /usr/local/lib/python3.11/dist-packages (from spacy) (2.0.11)\n",
            "Requirement already satisfied: preshed<3.1.0,>=3.0.2 in /usr/local/lib/python3.11/dist-packages (from spacy) (3.0.10)\n",
            "Requirement already satisfied: thinc<8.4.0,>=8.3.4 in /usr/local/lib/python3.11/dist-packages (from spacy) (8.3.6)\n",
            "Requirement already satisfied: wasabi<1.2.0,>=0.9.1 in /usr/local/lib/python3.11/dist-packages (from spacy) (1.1.3)\n",
            "Requirement already satisfied: srsly<3.0.0,>=2.4.3 in /usr/local/lib/python3.11/dist-packages (from spacy) (2.5.1)\n",
            "Requirement already satisfied: catalogue<2.1.0,>=2.0.6 in /usr/local/lib/python3.11/dist-packages (from spacy) (2.0.10)\n",
            "Requirement already satisfied: weasel<0.5.0,>=0.1.0 in /usr/local/lib/python3.11/dist-packages (from spacy) (0.4.1)\n",
            "Requirement already satisfied: typer<1.0.0,>=0.3.0 in /usr/local/lib/python3.11/dist-packages (from spacy) (0.16.0)\n",
            "Requirement already satisfied: tqdm<5.0.0,>=4.38.0 in /usr/local/lib/python3.11/dist-packages (from spacy) (4.67.1)\n",
            "Requirement already satisfied: numpy>=1.19.0 in /usr/local/lib/python3.11/dist-packages (from spacy) (2.0.2)\n",
            "Requirement already satisfied: requests<3.0.0,>=2.13.0 in /usr/local/lib/python3.11/dist-packages (from spacy) (2.32.3)\n",
            "Requirement already satisfied: pydantic!=1.8,!=1.8.1,<3.0.0,>=1.7.4 in /usr/local/lib/python3.11/dist-packages (from spacy) (2.11.7)\n",
            "Requirement already satisfied: jinja2 in /usr/local/lib/python3.11/dist-packages (from spacy) (3.1.6)\n",
            "Requirement already satisfied: setuptools in /usr/local/lib/python3.11/dist-packages (from spacy) (75.2.0)\n",
            "Requirement already satisfied: packaging>=20.0 in /usr/local/lib/python3.11/dist-packages (from spacy) (25.0)\n",
            "Requirement already satisfied: langcodes<4.0.0,>=3.2.0 in /usr/local/lib/python3.11/dist-packages (from spacy) (3.5.0)\n",
            "Requirement already satisfied: language-data>=1.2 in /usr/local/lib/python3.11/dist-packages (from langcodes<4.0.0,>=3.2.0->spacy) (1.3.0)\n",
            "Requirement already satisfied: annotated-types>=0.6.0 in /usr/local/lib/python3.11/dist-packages (from pydantic!=1.8,!=1.8.1,<3.0.0,>=1.7.4->spacy) (0.7.0)\n",
            "Requirement already satisfied: pydantic-core==2.33.2 in /usr/local/lib/python3.11/dist-packages (from pydantic!=1.8,!=1.8.1,<3.0.0,>=1.7.4->spacy) (2.33.2)\n",
            "Requirement already satisfied: typing-extensions>=4.12.2 in /usr/local/lib/python3.11/dist-packages (from pydantic!=1.8,!=1.8.1,<3.0.0,>=1.7.4->spacy) (4.14.1)\n",
            "Requirement already satisfied: typing-inspection>=0.4.0 in /usr/local/lib/python3.11/dist-packages (from pydantic!=1.8,!=1.8.1,<3.0.0,>=1.7.4->spacy) (0.4.1)\n",
            "Requirement already satisfied: charset-normalizer<4,>=2 in /usr/local/lib/python3.11/dist-packages (from requests<3.0.0,>=2.13.0->spacy) (3.4.2)\n",
            "Requirement already satisfied: idna<4,>=2.5 in /usr/local/lib/python3.11/dist-packages (from requests<3.0.0,>=2.13.0->spacy) (3.10)\n",
            "Requirement already satisfied: urllib3<3,>=1.21.1 in /usr/local/lib/python3.11/dist-packages (from requests<3.0.0,>=2.13.0->spacy) (2.5.0)\n",
            "Requirement already satisfied: certifi>=2017.4.17 in /usr/local/lib/python3.11/dist-packages (from requests<3.0.0,>=2.13.0->spacy) (2025.8.3)\n",
            "Requirement already satisfied: blis<1.4.0,>=1.3.0 in /usr/local/lib/python3.11/dist-packages (from thinc<8.4.0,>=8.3.4->spacy) (1.3.0)\n",
            "Requirement already satisfied: confection<1.0.0,>=0.0.1 in /usr/local/lib/python3.11/dist-packages (from thinc<8.4.0,>=8.3.4->spacy) (0.1.5)\n",
            "Requirement already satisfied: click>=8.0.0 in /usr/local/lib/python3.11/dist-packages (from typer<1.0.0,>=0.3.0->spacy) (8.2.1)\n",
            "Requirement already satisfied: shellingham>=1.3.0 in /usr/local/lib/python3.11/dist-packages (from typer<1.0.0,>=0.3.0->spacy) (1.5.4)\n",
            "Requirement already satisfied: rich>=10.11.0 in /usr/local/lib/python3.11/dist-packages (from typer<1.0.0,>=0.3.0->spacy) (13.9.4)\n",
            "Requirement already satisfied: cloudpathlib<1.0.0,>=0.7.0 in /usr/local/lib/python3.11/dist-packages (from weasel<0.5.0,>=0.1.0->spacy) (0.21.1)\n",
            "Requirement already satisfied: smart-open<8.0.0,>=5.2.1 in /usr/local/lib/python3.11/dist-packages (from weasel<0.5.0,>=0.1.0->spacy) (7.3.0.post1)\n",
            "Requirement already satisfied: MarkupSafe>=2.0 in /usr/local/lib/python3.11/dist-packages (from jinja2->spacy) (3.0.2)\n",
            "Requirement already satisfied: marisa-trie>=1.1.0 in /usr/local/lib/python3.11/dist-packages (from language-data>=1.2->langcodes<4.0.0,>=3.2.0->spacy) (1.2.1)\n",
            "Requirement already satisfied: markdown-it-py>=2.2.0 in /usr/local/lib/python3.11/dist-packages (from rich>=10.11.0->typer<1.0.0,>=0.3.0->spacy) (3.0.0)\n",
            "Requirement already satisfied: pygments<3.0.0,>=2.13.0 in /usr/local/lib/python3.11/dist-packages (from rich>=10.11.0->typer<1.0.0,>=0.3.0->spacy) (2.19.2)\n",
            "Requirement already satisfied: wrapt in /usr/local/lib/python3.11/dist-packages (from smart-open<8.0.0,>=5.2.1->weasel<0.5.0,>=0.1.0->spacy) (1.17.2)\n",
            "Requirement already satisfied: mdurl~=0.1 in /usr/local/lib/python3.11/dist-packages (from markdown-it-py>=2.2.0->rich>=10.11.0->typer<1.0.0,>=0.3.0->spacy) (0.1.2)\n",
            "Collecting en-core-web-sm==3.8.0\n",
            "  Downloading https://github.com/explosion/spacy-models/releases/download/en_core_web_sm-3.8.0/en_core_web_sm-3.8.0-py3-none-any.whl (12.8 MB)\n",
            "\u001b[2K     \u001b[90m━━━━━━━━━━━━━━━━━━━━━━━━━━━━━━━━━━━━━━━━\u001b[0m \u001b[32m12.8/12.8 MB\u001b[0m \u001b[31m96.6 MB/s\u001b[0m eta \u001b[36m0:00:00\u001b[0m\n",
            "\u001b[?25h\u001b[38;5;2m✔ Download and installation successful\u001b[0m\n",
            "You can now load the package via spacy.load('en_core_web_sm')\n",
            "\u001b[38;5;3m⚠ Restart to reload dependencies\u001b[0m\n",
            "If you are in a Jupyter or Colab notebook, you may need to restart Python in\n",
            "order to load all the package's dependencies. You can do this by selecting the\n",
            "'Restart kernel' or 'Restart runtime' option.\n"
          ]
        }
      ]
    },
    {
      "cell_type": "code",
      "source": [
        "import spacy\n",
        "\n",
        "# Load the English language model\n",
        "nlp = spacy.load(\"en_core_web_sm\")\n",
        "\n",
        "# Example text\n",
        "text = \"Apple is looking at buying U.K. startup for $1 billion.\"\n",
        "\n",
        "# Process the text\n",
        "doc = nlp(text)"
      ],
      "metadata": {
        "id": "qHQOH0-FrnsV"
      },
      "execution_count": 5,
      "outputs": []
    },
    {
      "cell_type": "code",
      "source": [
        "doc"
      ],
      "metadata": {
        "colab": {
          "base_uri": "https://localhost:8080/"
        },
        "id": "CKF3dymWrnp4",
        "outputId": "b1bd2b8e-6d82-421b-9453-58262c354cf1"
      },
      "execution_count": 6,
      "outputs": [
        {
          "output_type": "execute_result",
          "data": {
            "text/plain": [
              "Apple is looking at buying U.K. startup for $1 billion."
            ]
          },
          "metadata": {},
          "execution_count": 6
        }
      ]
    },
    {
      "cell_type": "code",
      "source": [
        "# Print named entities found in the text\n",
        "print(\"Named Entities, Phrases, and Concepts:\")\n",
        "for ent in doc.ents:\n",
        "    print(f\"{ent.text:15} {ent.label_:10} {ent.start_char:10} {ent.end_char:10}\")"
      ],
      "metadata": {
        "colab": {
          "base_uri": "https://localhost:8080/"
        },
        "id": "4wfm1cyYrnnU",
        "outputId": "8cc4e266-7b9f-4f25-cc95-ccee313aa874"
      },
      "execution_count": 8,
      "outputs": [
        {
          "output_type": "stream",
          "name": "stdout",
          "text": [
            "Named Entities, Phrases, and Concepts:\n",
            "Apple           ORG                 0          5\n",
            "U.K.            GPE                27         31\n",
            "$1 billion      MONEY              44         54\n"
          ]
        }
      ]
    },
    {
      "cell_type": "markdown",
      "source": [
        "- Loading the Model:\n",
        "- nlp = spacy.load(\"en_core_web_sm\") loads a pre-trained English model that includes NER capabilities.\n",
        "- Processing Text: doc=nlp(text) processes the input text, where doc is a container for accessing linguistic annotations.\n",
        "- Extracting Named Entities: The doc.ents property contains a list of recongnized entities. Each entity has attributes like:text. The entity text.label_: The type of the entity(e.g., ORG, GPE, MONEY).start_char and end_char: The character offsets of the entity in the original text."
      ],
      "metadata": {
        "id": "sVfPAe1NuPuT"
      }
    },
    {
      "cell_type": "markdown",
      "source": [
        "TEXT SUMMARIZATION - SPACY"
      ],
      "metadata": {
        "id": "D58u_5wJwm94"
      }
    },
    {
      "cell_type": "code",
      "source": [
        "import spacy\n",
        "nlp = spacy.load(\"en_core_web_sm\")\n",
        "doc = nlp(\"data science and ai & gen ai has greate career ahead\")"
      ],
      "metadata": {
        "id": "XBNBDYYprniU"
      },
      "execution_count": 9,
      "outputs": []
    },
    {
      "cell_type": "code",
      "execution_count": 10,
      "metadata": {
        "colab": {
          "base_uri": "https://localhost:8080/"
        },
        "id": "Y7zCmQDUrgPN",
        "outputId": "4cb5da94-18c1-47f8-c96c-a9eed7e25075"
      },
      "outputs": [
        {
          "output_type": "execute_result",
          "data": {
            "text/plain": [
              "data science and ai & gen ai has greate career ahead"
            ]
          },
          "metadata": {},
          "execution_count": 10
        }
      ],
      "source": [
        "doc"
      ]
    },
    {
      "cell_type": "code",
      "source": [
        "for token in doc:\n",
        "  print(token.text)"
      ],
      "metadata": {
        "colab": {
          "base_uri": "https://localhost:8080/"
        },
        "id": "R3_klo8ew56J",
        "outputId": "52379d9b-0109-44da-8f01-2d737ce56349"
      },
      "execution_count": 11,
      "outputs": [
        {
          "output_type": "stream",
          "name": "stdout",
          "text": [
            "data\n",
            "science\n",
            "and\n",
            "ai\n",
            "&\n",
            "gen\n",
            "ai\n",
            "has\n",
            "greate\n",
            "career\n",
            "ahead\n"
          ]
        }
      ]
    },
    {
      "cell_type": "code",
      "source": [
        "doc"
      ],
      "metadata": {
        "colab": {
          "base_uri": "https://localhost:8080/"
        },
        "id": "Ahpl4UlHxkqr",
        "outputId": "efb712aa-c261-4272-de39-08c701865343"
      },
      "execution_count": 12,
      "outputs": [
        {
          "output_type": "execute_result",
          "data": {
            "text/plain": [
              "data science and ai & gen ai has greate career ahead"
            ]
          },
          "metadata": {},
          "execution_count": 12
        }
      ]
    },
    {
      "cell_type": "code",
      "source": [
        "for token in doc:\n",
        "  print(token.pos_)"
      ],
      "metadata": {
        "colab": {
          "base_uri": "https://localhost:8080/"
        },
        "id": "zDDmqXtuxkoL",
        "outputId": "e36568db-c354-40ff-964f-bf0d8472bf8e"
      },
      "execution_count": 14,
      "outputs": [
        {
          "output_type": "stream",
          "name": "stdout",
          "text": [
            "NOUN\n",
            "NOUN\n",
            "CCONJ\n",
            "PROPN\n",
            "CCONJ\n",
            "PROPN\n",
            "PROPN\n",
            "AUX\n",
            "ADJ\n",
            "NOUN\n",
            "ADV\n"
          ]
        }
      ]
    },
    {
      "cell_type": "code",
      "source": [
        "for token in doc:\n",
        "  print(token.text,':', token.pos_)"
      ],
      "metadata": {
        "colab": {
          "base_uri": "https://localhost:8080/"
        },
        "id": "rvYoiYAAxkms",
        "outputId": "7361b047-bf22-4fc3-f1cf-75fb0c45dfa1"
      },
      "execution_count": 15,
      "outputs": [
        {
          "output_type": "stream",
          "name": "stdout",
          "text": [
            "data : NOUN\n",
            "science : NOUN\n",
            "and : CCONJ\n",
            "ai : PROPN\n",
            "& : CCONJ\n",
            "gen : PROPN\n",
            "ai : PROPN\n",
            "has : AUX\n",
            "greate : ADJ\n",
            "career : NOUN\n",
            "ahead : ADV\n"
          ]
        }
      ]
    },
    {
      "cell_type": "code",
      "source": [
        "for token in doc:\n",
        "  print(token.text,':', token.pos_,'-->', token.lemma_, token.dep_)"
      ],
      "metadata": {
        "colab": {
          "base_uri": "https://localhost:8080/"
        },
        "id": "2VnSH5NdxkkQ",
        "outputId": "10b0bd83-c832-4792-abeb-eb8712d7878e"
      },
      "execution_count": 16,
      "outputs": [
        {
          "output_type": "stream",
          "name": "stdout",
          "text": [
            "data : NOUN --> data compound\n",
            "science : NOUN --> science nsubj\n",
            "and : CCONJ --> and cc\n",
            "ai : PROPN --> ai conj\n",
            "& : CCONJ --> & cc\n",
            "gen : PROPN --> gen conj\n",
            "ai : PROPN --> ai conj\n",
            "has : AUX --> have aux\n",
            "greate : ADJ --> greate ROOT\n",
            "career : NOUN --> career dobj\n",
            "ahead : ADV --> ahead advmod\n"
          ]
        }
      ]
    },
    {
      "cell_type": "code",
      "source": [
        "import spacy\n",
        "\n",
        "nlp = spacy.load(\"en_core_web_sm\")\n",
        "doc = nlp(\"Apple is looking at buying U.K. startup for $1 billion\")\n",
        "\n",
        "for token in doc:\n",
        "    print(token.text, token.lemma_, token.pos_, token.tag_, token.dep_,\n",
        "            token.shape_, token.is_alpha, token.is_stop)"
      ],
      "metadata": {
        "colab": {
          "base_uri": "https://localhost:8080/"
        },
        "id": "yNi05fojxkh4",
        "outputId": "ca92bd1a-569c-40d6-8324-07d7984f197e"
      },
      "execution_count": 17,
      "outputs": [
        {
          "output_type": "stream",
          "name": "stdout",
          "text": [
            "Apple Apple PROPN NNP nsubj Xxxxx True False\n",
            "is be AUX VBZ aux xx True True\n",
            "looking look VERB VBG ROOT xxxx True False\n",
            "at at ADP IN prep xx True True\n",
            "buying buy VERB VBG pcomp xxxx True False\n",
            "U.K. U.K. PROPN NNP nsubj X.X. False False\n",
            "startup startup VERB VBD ccomp xxxx True False\n",
            "for for ADP IN prep xxx True True\n",
            "$ $ SYM $ quantmod $ False False\n",
            "1 1 NUM CD compound d False False\n",
            "billion billion NUM CD pobj xxxx True False\n"
          ]
        }
      ]
    },
    {
      "cell_type": "code",
      "source": [
        "text = \"\"\"There are broadly two types of extractive summarization tasks depending on what the summarization program focuses on. The first is generic summarization, which focuses on obtaining a generic summary or abstract of the collection (whether documents, or sets of images, or videos, news stories etc.). The second is query relevant summarization, sometimes called query-based summarization, which summarizes objects specific to a query. Summarization systems are able to create both query relevant text summaries and generic machine-generated summaries depending on what the user needs.\n",
        "An example of a summarization problem is document summarization, which attempts to automatically produce an abstract from a given document. Sometimes one might be interested in generating a summary from a single source document, while others can use multiple source documents (for example, a cluster of articles on the same topic). This problem is called multi-document summarization. A related application is summarizing news articles. Imagine a system, which automatically pulls together news articles on a given topic (from the web), and concisely represents the latest news as a summary.\n",
        "Image collection summarization is another application example of automatic summarization. It consists in selecting a representative set of images from a larger set of images.[4] A summary in this context is useful to show the most representative images of results in an image collection exploration system. Video summarization is a related domain, where the system automatically creates a trailer of a long video. This also has applications in consumer or personal videos, where one might want to skip the boring or repetitive actions. Similarly, in surveillance videos, one would want to extract important and suspicious activity, while ignoring all the boring and redundant frames captured \"\"\""
      ],
      "metadata": {
        "id": "GzlFYVnExkfR"
      },
      "execution_count": 18,
      "outputs": []
    },
    {
      "cell_type": "code",
      "source": [
        "text"
      ],
      "metadata": {
        "colab": {
          "base_uri": "https://localhost:8080/",
          "height": 123
        },
        "id": "IDkHPuyuxkZo",
        "outputId": "3db4e186-84c5-4826-bda1-553eb6059fca"
      },
      "execution_count": 19,
      "outputs": [
        {
          "output_type": "execute_result",
          "data": {
            "text/plain": [
              "'There are broadly two types of extractive summarization tasks depending on what the summarization program focuses on. The first is generic summarization, which focuses on obtaining a generic summary or abstract of the collection (whether documents, or sets of images, or videos, news stories etc.). The second is query relevant summarization, sometimes called query-based summarization, which summarizes objects specific to a query. Summarization systems are able to create both query relevant text summaries and generic machine-generated summaries depending on what the user needs.\\nAn example of a summarization problem is document summarization, which attempts to automatically produce an abstract from a given document. Sometimes one might be interested in generating a summary from a single source document, while others can use multiple source documents (for example, a cluster of articles on the same topic). This problem is called multi-document summarization. A related application is summarizing news articles. Imagine a system, which automatically pulls together news articles on a given topic (from the web), and concisely represents the latest news as a summary.\\nImage collection summarization is another application example of automatic summarization. It consists in selecting a representative set of images from a larger set of images.[4] A summary in this context is useful to show the most representative images of results in an image collection exploration system. Video summarization is a related domain, where the system automatically creates a trailer of a long video. This also has applications in consumer or personal videos, where one might want to skip the boring or repetitive actions. Similarly, in surveillance videos, one would want to extract important and suspicious activity, while ignoring all the boring and redundant frames captured '"
            ],
            "application/vnd.google.colaboratory.intrinsic+json": {
              "type": "string"
            }
          },
          "metadata": {},
          "execution_count": 19
        }
      ]
    },
    {
      "cell_type": "code",
      "source": [
        "import spacy\n",
        "from spacy.lang.en.stop_words import STOP_WORDS\n",
        "from string import punctuation"
      ],
      "metadata": {
        "id": "RUhoiuZPxT5V"
      },
      "execution_count": 20,
      "outputs": []
    },
    {
      "cell_type": "code",
      "source": [
        "stopwords = list(STOP_WORDS)\n",
        "stopwords"
      ],
      "metadata": {
        "colab": {
          "base_uri": "https://localhost:8080/"
        },
        "id": "MvGQxVObzz1r",
        "outputId": "e382e183-447c-40bb-b3e0-72352cb69c55"
      },
      "execution_count": 21,
      "outputs": [
        {
          "output_type": "execute_result",
          "data": {
            "text/plain": [
              "['empty',\n",
              " 'under',\n",
              " 'how',\n",
              " 'mine',\n",
              " 'forty',\n",
              " 'same',\n",
              " 'sometimes',\n",
              " 'still',\n",
              " 'moreover',\n",
              " 'back',\n",
              " 'for',\n",
              " 'serious',\n",
              " 'toward',\n",
              " 'him',\n",
              " 're',\n",
              " 'may',\n",
              " 'up',\n",
              " 'whereupon',\n",
              " 'out',\n",
              " 'nor',\n",
              " 'first',\n",
              " 'yourselves',\n",
              " 'keep',\n",
              " 'from',\n",
              " 'quite',\n",
              " 'thru',\n",
              " 'using',\n",
              " 'fifty',\n",
              " 'thereafter',\n",
              " 'ever',\n",
              " 'too',\n",
              " 'anywhere',\n",
              " 'even',\n",
              " 'put',\n",
              " 'via',\n",
              " 'twenty',\n",
              " 'here',\n",
              " 'but',\n",
              " 'front',\n",
              " 'latterly',\n",
              " 'this',\n",
              " 'n‘t',\n",
              " 'few',\n",
              " 'elsewhere',\n",
              " 'herein',\n",
              " 'twelve',\n",
              " \"n't\",\n",
              " '‘s',\n",
              " 'show',\n",
              " 'their',\n",
              " 'sometime',\n",
              " 'among',\n",
              " 'beforehand',\n",
              " 'latter',\n",
              " 'hereupon',\n",
              " 'can',\n",
              " 'side',\n",
              " 'alone',\n",
              " 'whoever',\n",
              " 'name',\n",
              " 'everyone',\n",
              " 'whenever',\n",
              " 'which',\n",
              " 'now',\n",
              " 'nowhere',\n",
              " 'wherein',\n",
              " 'several',\n",
              " 'more',\n",
              " 'whither',\n",
              " 'became',\n",
              " 'very',\n",
              " 'almost',\n",
              " 'below',\n",
              " '’ve',\n",
              " 'his',\n",
              " 'across',\n",
              " 'no',\n",
              " 'perhaps',\n",
              " 'per',\n",
              " 'former',\n",
              " 'them',\n",
              " 'six',\n",
              " 'do',\n",
              " 'itself',\n",
              " 'further',\n",
              " 'along',\n",
              " 'again',\n",
              " 'thereby',\n",
              " 'off',\n",
              " 'therein',\n",
              " 'anyhow',\n",
              " 'these',\n",
              " 'often',\n",
              " 'all',\n",
              " 'whose',\n",
              " 'else',\n",
              " 'ten',\n",
              " 'three',\n",
              " 'seeming',\n",
              " 'ours',\n",
              " 'of',\n",
              " 'over',\n",
              " 'during',\n",
              " 'together',\n",
              " 'after',\n",
              " 'she',\n",
              " 'anything',\n",
              " 'everything',\n",
              " 'the',\n",
              " 'top',\n",
              " 'we',\n",
              " \"'s\",\n",
              " 'many',\n",
              " 'thence',\n",
              " 'what',\n",
              " 'give',\n",
              " 'rather',\n",
              " 'whereafter',\n",
              " 'hers',\n",
              " 'been',\n",
              " 'somehow',\n",
              " 'both',\n",
              " 'noone',\n",
              " 'within',\n",
              " 'somewhere',\n",
              " 'becoming',\n",
              " 'hence',\n",
              " 'be',\n",
              " 'see',\n",
              " 'beyond',\n",
              " 'would',\n",
              " 'except',\n",
              " 'hereafter',\n",
              " 'must',\n",
              " 'whence',\n",
              " 'just',\n",
              " 'none',\n",
              " '‘ve',\n",
              " 'they',\n",
              " 'will',\n",
              " 'have',\n",
              " \"'ll\",\n",
              " 'wherever',\n",
              " 'nobody',\n",
              " 'did',\n",
              " 'either',\n",
              " 'thus',\n",
              " 'i',\n",
              " \"'m\",\n",
              " 'about',\n",
              " 'has',\n",
              " 'becomes',\n",
              " 'something',\n",
              " 'and',\n",
              " 'some',\n",
              " 'doing',\n",
              " 'regarding',\n",
              " 'cannot',\n",
              " 'ca',\n",
              " 'whereby',\n",
              " 'most',\n",
              " 'much',\n",
              " 'namely',\n",
              " 'made',\n",
              " 'around',\n",
              " 'call',\n",
              " 'anyone',\n",
              " 'please',\n",
              " 'when',\n",
              " 'onto',\n",
              " '‘ll',\n",
              " 'on',\n",
              " 'whereas',\n",
              " 'are',\n",
              " 'only',\n",
              " 'our',\n",
              " 'not',\n",
              " 'before',\n",
              " 'by',\n",
              " 'enough',\n",
              " 'next',\n",
              " 'us',\n",
              " 'whatever',\n",
              " 'there',\n",
              " 'into',\n",
              " 'every',\n",
              " 'should',\n",
              " 'although',\n",
              " 'to',\n",
              " 'in',\n",
              " 'could',\n",
              " 'being',\n",
              " '’s',\n",
              " 'therefore',\n",
              " '‘d',\n",
              " 'formerly',\n",
              " 'seem',\n",
              " 'nine',\n",
              " 'eight',\n",
              " 'last',\n",
              " 'such',\n",
              " 'already',\n",
              " 'others',\n",
              " 'third',\n",
              " 'myself',\n",
              " 'various',\n",
              " 'your',\n",
              " 'least',\n",
              " 'had',\n",
              " \"'re\",\n",
              " \"'ve\",\n",
              " '‘m',\n",
              " 'while',\n",
              " 'herself',\n",
              " 'that',\n",
              " 'until',\n",
              " 'bottom',\n",
              " 'against',\n",
              " 'take',\n",
              " 'whether',\n",
              " 'where',\n",
              " '‘re',\n",
              " 'though',\n",
              " 'an',\n",
              " 'any',\n",
              " 'meanwhile',\n",
              " 'otherwise',\n",
              " 'hundred',\n",
              " 'so',\n",
              " 'never',\n",
              " 'however',\n",
              " 'who',\n",
              " 'throughout',\n",
              " \"'d\",\n",
              " 'n’t',\n",
              " 'since',\n",
              " 'another',\n",
              " 'with',\n",
              " 'seems',\n",
              " 'through',\n",
              " 'anyway',\n",
              " 'someone',\n",
              " 'also',\n",
              " 'then',\n",
              " 'a',\n",
              " 'why',\n",
              " 'between',\n",
              " 'behind',\n",
              " 'down',\n",
              " 'amount',\n",
              " 'her',\n",
              " 'beside',\n",
              " 'as',\n",
              " 'themselves',\n",
              " 'than',\n",
              " '’re',\n",
              " 'he',\n",
              " 'full',\n",
              " 'really',\n",
              " 'am',\n",
              " 'was',\n",
              " 'without',\n",
              " 'amongst',\n",
              " 'move',\n",
              " 'its',\n",
              " 'one',\n",
              " 'own',\n",
              " 'seemed',\n",
              " 'fifteen',\n",
              " 'five',\n",
              " 'me',\n",
              " 'thereupon',\n",
              " 'say',\n",
              " 'because',\n",
              " 'go',\n",
              " 'ourselves',\n",
              " 'those',\n",
              " 'four',\n",
              " 'once',\n",
              " 'nevertheless',\n",
              " 'everywhere',\n",
              " 'besides',\n",
              " 'nothing',\n",
              " 'if',\n",
              " 'it',\n",
              " 'you',\n",
              " 'other',\n",
              " 'make',\n",
              " 'above',\n",
              " 'two',\n",
              " 'sixty',\n",
              " 'less',\n",
              " 'yours',\n",
              " 'become',\n",
              " 'neither',\n",
              " 'at',\n",
              " 'always',\n",
              " 'upon',\n",
              " 'done',\n",
              " 'yet',\n",
              " 'afterwards',\n",
              " 'is',\n",
              " 'towards',\n",
              " 'each',\n",
              " '’ll',\n",
              " 'used',\n",
              " 'eleven',\n",
              " 'mostly',\n",
              " 'part',\n",
              " 'unless',\n",
              " 'does',\n",
              " 'might',\n",
              " 'my',\n",
              " 'were',\n",
              " 'or',\n",
              " 'get',\n",
              " 'due',\n",
              " 'whole',\n",
              " 'hereby',\n",
              " '’m',\n",
              " 'yourself',\n",
              " 'himself',\n",
              " 'whom',\n",
              " 'well',\n",
              " 'indeed',\n",
              " '’d']"
            ]
          },
          "metadata": {},
          "execution_count": 21
        }
      ]
    },
    {
      "cell_type": "code",
      "source": [
        "len(stopwords)"
      ],
      "metadata": {
        "colab": {
          "base_uri": "https://localhost:8080/"
        },
        "id": "9IwnHZZ5z5nr",
        "outputId": "82239c5b-2b54-495b-e877-1aa90cbe9bdb"
      },
      "execution_count": 22,
      "outputs": [
        {
          "output_type": "execute_result",
          "data": {
            "text/plain": [
              "326"
            ]
          },
          "metadata": {},
          "execution_count": 22
        }
      ]
    },
    {
      "cell_type": "code",
      "source": [
        "nlp = spacy.load('en_core_web_sm')"
      ],
      "metadata": {
        "id": "efO86VFz0Kkf"
      },
      "execution_count": 23,
      "outputs": []
    },
    {
      "cell_type": "code",
      "source": [
        "text"
      ],
      "metadata": {
        "colab": {
          "base_uri": "https://localhost:8080/",
          "height": 123
        },
        "id": "J1dOrw7K0QDH",
        "outputId": "402bdc17-3245-4884-8256-d028f910f8e9"
      },
      "execution_count": 24,
      "outputs": [
        {
          "output_type": "execute_result",
          "data": {
            "text/plain": [
              "'There are broadly two types of extractive summarization tasks depending on what the summarization program focuses on. The first is generic summarization, which focuses on obtaining a generic summary or abstract of the collection (whether documents, or sets of images, or videos, news stories etc.). The second is query relevant summarization, sometimes called query-based summarization, which summarizes objects specific to a query. Summarization systems are able to create both query relevant text summaries and generic machine-generated summaries depending on what the user needs.\\nAn example of a summarization problem is document summarization, which attempts to automatically produce an abstract from a given document. Sometimes one might be interested in generating a summary from a single source document, while others can use multiple source documents (for example, a cluster of articles on the same topic). This problem is called multi-document summarization. A related application is summarizing news articles. Imagine a system, which automatically pulls together news articles on a given topic (from the web), and concisely represents the latest news as a summary.\\nImage collection summarization is another application example of automatic summarization. It consists in selecting a representative set of images from a larger set of images.[4] A summary in this context is useful to show the most representative images of results in an image collection exploration system. Video summarization is a related domain, where the system automatically creates a trailer of a long video. This also has applications in consumer or personal videos, where one might want to skip the boring or repetitive actions. Similarly, in surveillance videos, one would want to extract important and suspicious activity, while ignoring all the boring and redundant frames captured '"
            ],
            "application/vnd.google.colaboratory.intrinsic+json": {
              "type": "string"
            }
          },
          "metadata": {},
          "execution_count": 24
        }
      ]
    },
    {
      "cell_type": "code",
      "source": [
        "doc = nlp(text)\n",
        "doc"
      ],
      "metadata": {
        "colab": {
          "base_uri": "https://localhost:8080/"
        },
        "id": "8k9WzI9_0QrX",
        "outputId": "53607e72-7b33-4e41-adc2-bf176e200aaa"
      },
      "execution_count": 26,
      "outputs": [
        {
          "output_type": "execute_result",
          "data": {
            "text/plain": [
              "There are broadly two types of extractive summarization tasks depending on what the summarization program focuses on. The first is generic summarization, which focuses on obtaining a generic summary or abstract of the collection (whether documents, or sets of images, or videos, news stories etc.). The second is query relevant summarization, sometimes called query-based summarization, which summarizes objects specific to a query. Summarization systems are able to create both query relevant text summaries and generic machine-generated summaries depending on what the user needs.\n",
              "An example of a summarization problem is document summarization, which attempts to automatically produce an abstract from a given document. Sometimes one might be interested in generating a summary from a single source document, while others can use multiple source documents (for example, a cluster of articles on the same topic). This problem is called multi-document summarization. A related application is summarizing news articles. Imagine a system, which automatically pulls together news articles on a given topic (from the web), and concisely represents the latest news as a summary.\n",
              "Image collection summarization is another application example of automatic summarization. It consists in selecting a representative set of images from a larger set of images.[4] A summary in this context is useful to show the most representative images of results in an image collection exploration system. Video summarization is a related domain, where the system automatically creates a trailer of a long video. This also has applications in consumer or personal videos, where one might want to skip the boring or repetitive actions. Similarly, in surveillance videos, one would want to extract important and suspicious activity, while ignoring all the boring and redundant frames captured "
            ]
          },
          "metadata": {},
          "execution_count": 26
        }
      ]
    },
    {
      "cell_type": "code",
      "source": [
        "# lets get the tokens from text\n",
        "tokens = [token.text for token in doc]\n",
        "print(tokens)\n",
        "# when we execute everything we created tokens from the text & not removed any of the stopwords & didnt cl"
      ],
      "metadata": {
        "colab": {
          "base_uri": "https://localhost:8080/"
        },
        "id": "B4pEydQ00nJ7",
        "outputId": "c749387e-f99a-47ac-f465-315f746dc82f"
      },
      "execution_count": 27,
      "outputs": [
        {
          "output_type": "stream",
          "name": "stdout",
          "text": [
            "['There', 'are', 'broadly', 'two', 'types', 'of', 'extractive', 'summarization', 'tasks', 'depending', 'on', 'what', 'the', 'summarization', 'program', 'focuses', 'on', '.', 'The', 'first', 'is', 'generic', 'summarization', ',', 'which', 'focuses', 'on', 'obtaining', 'a', 'generic', 'summary', 'or', 'abstract', 'of', 'the', 'collection', '(', 'whether', 'documents', ',', 'or', 'sets', 'of', 'images', ',', 'or', 'videos', ',', 'news', 'stories', 'etc', '.', ')', '.', 'The', 'second', 'is', 'query', 'relevant', 'summarization', ',', 'sometimes', 'called', 'query', '-', 'based', 'summarization', ',', 'which', 'summarizes', 'objects', 'specific', 'to', 'a', 'query', '.', 'Summarization', 'systems', 'are', 'able', 'to', 'create', 'both', 'query', 'relevant', 'text', 'summaries', 'and', 'generic', 'machine', '-', 'generated', 'summaries', 'depending', 'on', 'what', 'the', 'user', 'needs', '.', '\\n', 'An', 'example', 'of', 'a', 'summarization', 'problem', 'is', 'document', 'summarization', ',', 'which', 'attempts', 'to', 'automatically', 'produce', 'an', 'abstract', 'from', 'a', 'given', 'document', '.', 'Sometimes', 'one', 'might', 'be', 'interested', 'in', 'generating', 'a', 'summary', 'from', 'a', 'single', 'source', 'document', ',', 'while', 'others', 'can', 'use', 'multiple', 'source', 'documents', '(', 'for', 'example', ',', 'a', 'cluster', 'of', 'articles', 'on', 'the', 'same', 'topic', ')', '.', 'This', 'problem', 'is', 'called', 'multi', '-', 'document', 'summarization', '.', 'A', 'related', 'application', 'is', 'summarizing', 'news', 'articles', '.', 'Imagine', 'a', 'system', ',', 'which', 'automatically', 'pulls', 'together', 'news', 'articles', 'on', 'a', 'given', 'topic', '(', 'from', 'the', 'web', ')', ',', 'and', 'concisely', 'represents', 'the', 'latest', 'news', 'as', 'a', 'summary', '.', '\\n', 'Image', 'collection', 'summarization', 'is', 'another', 'application', 'example', 'of', 'automatic', 'summarization', '.', 'It', 'consists', 'in', 'selecting', 'a', 'representative', 'set', 'of', 'images', 'from', 'a', 'larger', 'set', 'of', 'images.[4', ']', 'A', 'summary', 'in', 'this', 'context', 'is', 'useful', 'to', 'show', 'the', 'most', 'representative', 'images', 'of', 'results', 'in', 'an', 'image', 'collection', 'exploration', 'system', '.', 'Video', 'summarization', 'is', 'a', 'related', 'domain', ',', 'where', 'the', 'system', 'automatically', 'creates', 'a', 'trailer', 'of', 'a', 'long', 'video', '.', 'This', 'also', 'has', 'applications', 'in', 'consumer', 'or', 'personal', 'videos', ',', 'where', 'one', 'might', 'want', 'to', 'skip', 'the', 'boring', 'or', 'repetitive', 'actions', '.', 'Similarly', ',', 'in', 'surveillance', 'videos', ',', 'one', 'would', 'want', 'to', 'extract', 'important', 'and', 'suspicious', 'activity', ',', 'while', 'ignoring', 'all', 'the', 'boring', 'and', 'redundant', 'frames', 'captured']\n"
          ]
        }
      ]
    },
    {
      "cell_type": "code",
      "source": [
        "doc"
      ],
      "metadata": {
        "colab": {
          "base_uri": "https://localhost:8080/"
        },
        "id": "swTlPPa90nHr",
        "outputId": "3a2ad56f-e031-40cd-9e34-60f14933689c"
      },
      "execution_count": 28,
      "outputs": [
        {
          "output_type": "execute_result",
          "data": {
            "text/plain": [
              "There are broadly two types of extractive summarization tasks depending on what the summarization program focuses on. The first is generic summarization, which focuses on obtaining a generic summary or abstract of the collection (whether documents, or sets of images, or videos, news stories etc.). The second is query relevant summarization, sometimes called query-based summarization, which summarizes objects specific to a query. Summarization systems are able to create both query relevant text summaries and generic machine-generated summaries depending on what the user needs.\n",
              "An example of a summarization problem is document summarization, which attempts to automatically produce an abstract from a given document. Sometimes one might be interested in generating a summary from a single source document, while others can use multiple source documents (for example, a cluster of articles on the same topic). This problem is called multi-document summarization. A related application is summarizing news articles. Imagine a system, which automatically pulls together news articles on a given topic (from the web), and concisely represents the latest news as a summary.\n",
              "Image collection summarization is another application example of automatic summarization. It consists in selecting a representative set of images from a larger set of images.[4] A summary in this context is useful to show the most representative images of results in an image collection exploration system. Video summarization is a related domain, where the system automatically creates a trailer of a long video. This also has applications in consumer or personal videos, where one might want to skip the boring or repetitive actions. Similarly, in surveillance videos, one would want to extract important and suspicious activity, while ignoring all the boring and redundant frames captured "
            ]
          },
          "metadata": {},
          "execution_count": 28
        }
      ]
    },
    {
      "cell_type": "code",
      "source": [
        "# we have to calculate the frequency of each and every token, how many time token is repetation in text\n",
        "\n",
        "word_frequencies = {}\n",
        "\n",
        "for word in doc:\n",
        "    if word.text.lower() not in stopwords:\n",
        "        if word.text.lower() not in punctuation:\n",
        "            if word.text not in word_frequencies.keys():\n",
        "                word_frequencies[word.text] = 1\n",
        "            else:\n",
        "                word_frequencies[word.text] += 1"
      ],
      "metadata": {
        "id": "o7CIz4VV0nFP"
      },
      "execution_count": 31,
      "outputs": []
    },
    {
      "cell_type": "code",
      "source": [
        "word_frequencies"
      ],
      "metadata": {
        "colab": {
          "base_uri": "https://localhost:8080/"
        },
        "id": "jKyZicVP0nC0",
        "outputId": "a5d61729-3c1f-431b-be51-b7956d542213"
      },
      "execution_count": 30,
      "outputs": [
        {
          "output_type": "execute_result",
          "data": {
            "text/plain": [
              "{'broadly': 1,\n",
              " 'types': 1,\n",
              " 'extractive': 1,\n",
              " 'summarization': 11,\n",
              " 'tasks': 1,\n",
              " 'depending': 2,\n",
              " 'program': 1,\n",
              " 'focuses': 2,\n",
              " 'generic': 3,\n",
              " 'obtaining': 1,\n",
              " 'summary': 4,\n",
              " 'abstract': 2,\n",
              " 'collection': 3,\n",
              " 'documents': 2,\n",
              " 'sets': 1,\n",
              " 'images': 3,\n",
              " 'videos': 3,\n",
              " 'news': 4,\n",
              " 'stories': 1,\n",
              " 'etc': 1,\n",
              " 'second': 1,\n",
              " 'query': 4,\n",
              " 'relevant': 2,\n",
              " 'called': 2,\n",
              " 'based': 1,\n",
              " 'summarizes': 1,\n",
              " 'objects': 1,\n",
              " 'specific': 1,\n",
              " 'Summarization': 1,\n",
              " 'systems': 1,\n",
              " 'able': 1,\n",
              " 'create': 1,\n",
              " 'text': 1,\n",
              " 'summaries': 2,\n",
              " 'machine': 1,\n",
              " 'generated': 1,\n",
              " 'user': 1,\n",
              " 'needs': 1,\n",
              " '\\n': 2,\n",
              " 'example': 3,\n",
              " 'problem': 2,\n",
              " 'document': 4,\n",
              " 'attempts': 1,\n",
              " 'automatically': 3,\n",
              " 'produce': 1,\n",
              " 'given': 2,\n",
              " 'interested': 1,\n",
              " 'generating': 1,\n",
              " 'single': 1,\n",
              " 'source': 2,\n",
              " 'use': 1,\n",
              " 'multiple': 1,\n",
              " 'cluster': 1,\n",
              " 'articles': 3,\n",
              " 'topic': 2,\n",
              " 'multi': 1,\n",
              " 'related': 2,\n",
              " 'application': 2,\n",
              " 'summarizing': 1,\n",
              " 'Imagine': 1,\n",
              " 'system': 3,\n",
              " 'pulls': 1,\n",
              " 'web': 1,\n",
              " 'concisely': 1,\n",
              " 'represents': 1,\n",
              " 'latest': 1,\n",
              " 'Image': 1,\n",
              " 'automatic': 1,\n",
              " 'consists': 1,\n",
              " 'selecting': 1,\n",
              " 'representative': 2,\n",
              " 'set': 2,\n",
              " 'larger': 1,\n",
              " 'images.[4': 1,\n",
              " 'context': 1,\n",
              " 'useful': 1,\n",
              " 'results': 1,\n",
              " 'image': 1,\n",
              " 'exploration': 1,\n",
              " 'Video': 1,\n",
              " 'domain': 1,\n",
              " 'creates': 1,\n",
              " 'trailer': 1,\n",
              " 'long': 1,\n",
              " 'video': 1,\n",
              " 'applications': 1,\n",
              " 'consumer': 1,\n",
              " 'personal': 1,\n",
              " 'want': 2,\n",
              " 'skip': 1,\n",
              " 'boring': 2,\n",
              " 'repetitive': 1,\n",
              " 'actions': 1,\n",
              " 'Similarly': 1,\n",
              " 'surveillance': 1,\n",
              " 'extract': 1,\n",
              " 'important': 1,\n",
              " 'suspicious': 1,\n",
              " 'activity': 1,\n",
              " 'ignoring': 1,\n",
              " 'redundant': 1,\n",
              " 'frames': 1,\n",
              " 'captured': 1}"
            ]
          },
          "metadata": {},
          "execution_count": 30
        }
      ]
    },
    {
      "cell_type": "code",
      "source": [
        "len(word_frequencies)"
      ],
      "metadata": {
        "colab": {
          "base_uri": "https://localhost:8080/"
        },
        "id": "ovpgG8zv0m-R",
        "outputId": "2fb40278-b712-4b2d-a5c6-f428a78d4b51"
      },
      "execution_count": 32,
      "outputs": [
        {
          "output_type": "execute_result",
          "data": {
            "text/plain": [
              "103"
            ]
          },
          "metadata": {},
          "execution_count": 32
        }
      ]
    },
    {
      "cell_type": "code",
      "source": [
        "max_frequency = max(word_frequencies.values())\n",
        "max_frequency"
      ],
      "metadata": {
        "colab": {
          "base_uri": "https://localhost:8080/"
        },
        "id": "FXH1yG-00m8b",
        "outputId": "dfec4dcd-9aab-4933-a2c5-40b3996893b6"
      },
      "execution_count": 33,
      "outputs": [
        {
          "output_type": "execute_result",
          "data": {
            "text/plain": [
              "11"
            ]
          },
          "metadata": {},
          "execution_count": 33
        }
      ]
    },
    {
      "cell_type": "code",
      "source": [
        "# to get normalized/weighted frequencies you should devide all frequencies with 11\n",
        "\n",
        "for word in word_frequencies.keys():\n",
        "    word_frequencies[word] = word_frequencies[word]/max_frequency"
      ],
      "metadata": {
        "id": "RDG4V-LD0m6c"
      },
      "execution_count": 34,
      "outputs": []
    },
    {
      "cell_type": "code",
      "source": [
        "word_frequencies"
      ],
      "metadata": {
        "colab": {
          "base_uri": "https://localhost:8080/"
        },
        "id": "avEcK7nz0m4D",
        "outputId": "b07eedf9-2ea1-4697-d34e-c807643ab568"
      },
      "execution_count": 35,
      "outputs": [
        {
          "output_type": "execute_result",
          "data": {
            "text/plain": [
              "{'broadly': 0.09090909090909091,\n",
              " 'types': 0.09090909090909091,\n",
              " 'extractive': 0.09090909090909091,\n",
              " 'summarization': 1.0,\n",
              " 'tasks': 0.09090909090909091,\n",
              " 'depending': 0.18181818181818182,\n",
              " 'program': 0.09090909090909091,\n",
              " 'focuses': 0.18181818181818182,\n",
              " 'generic': 0.2727272727272727,\n",
              " 'obtaining': 0.09090909090909091,\n",
              " 'summary': 0.36363636363636365,\n",
              " 'abstract': 0.18181818181818182,\n",
              " 'collection': 0.2727272727272727,\n",
              " 'documents': 0.18181818181818182,\n",
              " 'sets': 0.09090909090909091,\n",
              " 'images': 0.2727272727272727,\n",
              " 'videos': 0.2727272727272727,\n",
              " 'news': 0.36363636363636365,\n",
              " 'stories': 0.09090909090909091,\n",
              " 'etc': 0.09090909090909091,\n",
              " 'second': 0.09090909090909091,\n",
              " 'query': 0.36363636363636365,\n",
              " 'relevant': 0.18181818181818182,\n",
              " 'called': 0.18181818181818182,\n",
              " 'based': 0.09090909090909091,\n",
              " 'summarizes': 0.09090909090909091,\n",
              " 'objects': 0.09090909090909091,\n",
              " 'specific': 0.09090909090909091,\n",
              " 'Summarization': 0.09090909090909091,\n",
              " 'systems': 0.09090909090909091,\n",
              " 'able': 0.09090909090909091,\n",
              " 'create': 0.09090909090909091,\n",
              " 'text': 0.09090909090909091,\n",
              " 'summaries': 0.18181818181818182,\n",
              " 'machine': 0.09090909090909091,\n",
              " 'generated': 0.09090909090909091,\n",
              " 'user': 0.09090909090909091,\n",
              " 'needs': 0.09090909090909091,\n",
              " '\\n': 0.18181818181818182,\n",
              " 'example': 0.2727272727272727,\n",
              " 'problem': 0.18181818181818182,\n",
              " 'document': 0.36363636363636365,\n",
              " 'attempts': 0.09090909090909091,\n",
              " 'automatically': 0.2727272727272727,\n",
              " 'produce': 0.09090909090909091,\n",
              " 'given': 0.18181818181818182,\n",
              " 'interested': 0.09090909090909091,\n",
              " 'generating': 0.09090909090909091,\n",
              " 'single': 0.09090909090909091,\n",
              " 'source': 0.18181818181818182,\n",
              " 'use': 0.09090909090909091,\n",
              " 'multiple': 0.09090909090909091,\n",
              " 'cluster': 0.09090909090909091,\n",
              " 'articles': 0.2727272727272727,\n",
              " 'topic': 0.18181818181818182,\n",
              " 'multi': 0.09090909090909091,\n",
              " 'related': 0.18181818181818182,\n",
              " 'application': 0.18181818181818182,\n",
              " 'summarizing': 0.09090909090909091,\n",
              " 'Imagine': 0.09090909090909091,\n",
              " 'system': 0.2727272727272727,\n",
              " 'pulls': 0.09090909090909091,\n",
              " 'web': 0.09090909090909091,\n",
              " 'concisely': 0.09090909090909091,\n",
              " 'represents': 0.09090909090909091,\n",
              " 'latest': 0.09090909090909091,\n",
              " 'Image': 0.09090909090909091,\n",
              " 'automatic': 0.09090909090909091,\n",
              " 'consists': 0.09090909090909091,\n",
              " 'selecting': 0.09090909090909091,\n",
              " 'representative': 0.18181818181818182,\n",
              " 'set': 0.18181818181818182,\n",
              " 'larger': 0.09090909090909091,\n",
              " 'images.[4': 0.09090909090909091,\n",
              " 'context': 0.09090909090909091,\n",
              " 'useful': 0.09090909090909091,\n",
              " 'results': 0.09090909090909091,\n",
              " 'image': 0.09090909090909091,\n",
              " 'exploration': 0.09090909090909091,\n",
              " 'Video': 0.09090909090909091,\n",
              " 'domain': 0.09090909090909091,\n",
              " 'creates': 0.09090909090909091,\n",
              " 'trailer': 0.09090909090909091,\n",
              " 'long': 0.09090909090909091,\n",
              " 'video': 0.09090909090909091,\n",
              " 'applications': 0.09090909090909091,\n",
              " 'consumer': 0.09090909090909091,\n",
              " 'personal': 0.09090909090909091,\n",
              " 'want': 0.18181818181818182,\n",
              " 'skip': 0.09090909090909091,\n",
              " 'boring': 0.18181818181818182,\n",
              " 'repetitive': 0.09090909090909091,\n",
              " 'actions': 0.09090909090909091,\n",
              " 'Similarly': 0.09090909090909091,\n",
              " 'surveillance': 0.09090909090909091,\n",
              " 'extract': 0.09090909090909091,\n",
              " 'important': 0.09090909090909091,\n",
              " 'suspicious': 0.09090909090909091,\n",
              " 'activity': 0.09090909090909091,\n",
              " 'ignoring': 0.09090909090909091,\n",
              " 'redundant': 0.09090909090909091,\n",
              " 'frames': 0.09090909090909091,\n",
              " 'captured': 0.09090909090909091}"
            ]
          },
          "metadata": {},
          "execution_count": 35
        }
      ]
    },
    {
      "cell_type": "code",
      "source": [
        "sentence_tokens = [sent for sent in doc.sents]\n",
        "sentence_tokens"
      ],
      "metadata": {
        "colab": {
          "base_uri": "https://localhost:8080/"
        },
        "id": "sYo-qGiI0m1s",
        "outputId": "f6ed5f05-18b1-4b4d-e0e7-1641f67d5086"
      },
      "execution_count": 36,
      "outputs": [
        {
          "output_type": "execute_result",
          "data": {
            "text/plain": [
              "[There are broadly two types of extractive summarization tasks depending on what the summarization program focuses on.,\n",
              " The first is generic summarization, which focuses on obtaining a generic summary or abstract of the collection (whether documents, or sets of images, or videos, news stories etc.).,\n",
              " The second is query relevant summarization, sometimes called query-based summarization, which summarizes objects specific to a query.,\n",
              " Summarization systems are able to create both query relevant text summaries and generic machine-generated summaries depending on what the user needs.,\n",
              " An example of a summarization problem is document summarization, which attempts to automatically produce an abstract from a given document.,\n",
              " Sometimes one might be interested in generating a summary from a single source document, while others can use multiple source documents (for example, a cluster of articles on the same topic).,\n",
              " This problem is called multi-document summarization.,\n",
              " A related application is summarizing news articles.,\n",
              " Imagine a system, which automatically pulls together news articles on a given topic (from the web), and concisely represents the latest news as a summary.,\n",
              " Image collection summarization is another application example of automatic summarization.,\n",
              " It consists in selecting a representative set of images from a larger set of images.[4],\n",
              " A summary in this context is useful to show the most representative images of results in an image collection exploration system.,\n",
              " Video summarization is a related domain, where the system automatically creates a trailer of a long video.,\n",
              " This also has applications in consumer or personal videos, where one might want to skip the boring or repetitive actions.,\n",
              " Similarly, in surveillance videos, one would want to extract important and suspicious activity, while ignoring all the boring and redundant frames captured]"
            ]
          },
          "metadata": {},
          "execution_count": 36
        }
      ]
    },
    {
      "cell_type": "code",
      "source": [
        "len(sentence_tokens)"
      ],
      "metadata": {
        "colab": {
          "base_uri": "https://localhost:8080/"
        },
        "id": "3dtO9PA80Tm2",
        "outputId": "08b4adaf-9e35-4342-9b6a-1caaa82beaa9"
      },
      "execution_count": 37,
      "outputs": [
        {
          "output_type": "execute_result",
          "data": {
            "text/plain": [
              "15"
            ]
          },
          "metadata": {},
          "execution_count": 37
        }
      ]
    },
    {
      "cell_type": "code",
      "source": [
        "sentence_tokens"
      ],
      "metadata": {
        "colab": {
          "base_uri": "https://localhost:8080/"
        },
        "id": "hDL84yPx6TYv",
        "outputId": "8bea3a7c-a872-4836-eee6-32739fd644fe"
      },
      "execution_count": 38,
      "outputs": [
        {
          "output_type": "execute_result",
          "data": {
            "text/plain": [
              "[There are broadly two types of extractive summarization tasks depending on what the summarization program focuses on.,\n",
              " The first is generic summarization, which focuses on obtaining a generic summary or abstract of the collection (whether documents, or sets of images, or videos, news stories etc.).,\n",
              " The second is query relevant summarization, sometimes called query-based summarization, which summarizes objects specific to a query.,\n",
              " Summarization systems are able to create both query relevant text summaries and generic machine-generated summaries depending on what the user needs.,\n",
              " An example of a summarization problem is document summarization, which attempts to automatically produce an abstract from a given document.,\n",
              " Sometimes one might be interested in generating a summary from a single source document, while others can use multiple source documents (for example, a cluster of articles on the same topic).,\n",
              " This problem is called multi-document summarization.,\n",
              " A related application is summarizing news articles.,\n",
              " Imagine a system, which automatically pulls together news articles on a given topic (from the web), and concisely represents the latest news as a summary.,\n",
              " Image collection summarization is another application example of automatic summarization.,\n",
              " It consists in selecting a representative set of images from a larger set of images.[4],\n",
              " A summary in this context is useful to show the most representative images of results in an image collection exploration system.,\n",
              " Video summarization is a related domain, where the system automatically creates a trailer of a long video.,\n",
              " This also has applications in consumer or personal videos, where one might want to skip the boring or repetitive actions.,\n",
              " Similarly, in surveillance videos, one would want to extract important and suspicious activity, while ignoring all the boring and redundant frames captured]"
            ]
          },
          "metadata": {},
          "execution_count": 38
        }
      ]
    },
    {
      "cell_type": "code",
      "source": [
        "# we are going to calculate the sentence score, to calculate the sentence score\n",
        "\n",
        "sentence_scores = {}\n",
        "\n",
        "for sent in sentence_tokens:\n",
        "    for word in sent:\n",
        "        if word.text.lower() in word_frequencies.keys():\n",
        "            if sent not in sentence_scores.keys():\n",
        "                sentence_scores[sent] = word_frequencies[word.text.lower()]\n",
        "            else:\n",
        "                sentence_scores[sent] += word_frequencies[word.text.lower()]"
      ],
      "metadata": {
        "id": "ZFovWKzy6YDu"
      },
      "execution_count": 39,
      "outputs": []
    },
    {
      "cell_type": "code",
      "source": [
        "sentence_scores"
      ],
      "metadata": {
        "colab": {
          "base_uri": "https://localhost:8080/"
        },
        "id": "1joSSyB56qM6",
        "outputId": "572bd8e6-1338-4fa8-a0d4-4f1ede5a1ca2"
      },
      "execution_count": 40,
      "outputs": [
        {
          "output_type": "execute_result",
          "data": {
            "text/plain": [
              "{There are broadly two types of extractive summarization tasks depending on what the summarization program focuses on.: 2.818181818181818,\n",
              " The first is generic summarization, which focuses on obtaining a generic summary or abstract of the collection (whether documents, or sets of images, or videos, news stories etc.).: 3.9999999999999987,\n",
              " The second is query relevant summarization, sometimes called query-based summarization, which summarizes objects specific to a query.: 3.909090909090909,\n",
              " Summarization systems are able to create both query relevant text summaries and generic machine-generated summaries depending on what the user needs.: 3.2727272727272716,\n",
              " An example of a summarization problem is document summarization, which attempts to automatically produce an abstract from a given document.: 3.9999999999999996,\n",
              " Sometimes one might be interested in generating a summary from a single source document, while others can use multiple source documents (for example, a cluster of articles on the same topic).: 2.545454545454545,\n",
              " This problem is called multi-document summarization.: 1.8181818181818183,\n",
              " A related application is summarizing news articles.: 1.0909090909090908,\n",
              " Imagine a system, which automatically pulls together news articles on a given topic (from the web), and concisely represents the latest news as a summary.: 2.9090909090909087,\n",
              " Image collection summarization is another application example of automatic summarization.: 2.909090909090909,\n",
              " It consists in selecting a representative set of images from a larger set of images.[4]: 1.1818181818181817,\n",
              " A summary in this context is useful to show the most representative images of results in an image collection exploration system.: 1.818181818181818,\n",
              " Video summarization is a related domain, where the system automatically creates a trailer of a long video.: 2.2727272727272725,\n",
              " This also has applications in consumer or personal videos, where one might want to skip the boring or repetitive actions.: 1.1818181818181817,\n",
              " Similarly, in surveillance videos, one would want to extract important and suspicious activity, while ignoring all the boring and redundant frames captured: 1.4545454545454544}"
            ]
          },
          "metadata": {},
          "execution_count": 40
        }
      ]
    },
    {
      "cell_type": "code",
      "source": [
        "len(sentence_scores)"
      ],
      "metadata": {
        "colab": {
          "base_uri": "https://localhost:8080/"
        },
        "id": "4VAxvplr6sP-",
        "outputId": "9ec9e334-9479-4a51-9483-5b00b623b31e"
      },
      "execution_count": 41,
      "outputs": [
        {
          "output_type": "execute_result",
          "data": {
            "text/plain": [
              "15"
            ]
          },
          "metadata": {},
          "execution_count": 41
        }
      ]
    },
    {
      "cell_type": "code",
      "source": [
        "# lets say our case study was 30% sentence with maximum scores\n",
        "\n",
        "from heapq import nlargest"
      ],
      "metadata": {
        "id": "iwL0G4mc61x3"
      },
      "execution_count": 42,
      "outputs": []
    },
    {
      "cell_type": "code",
      "source": [
        "select_length = int(len(sentence_tokens)*0.4)\n",
        "select_length"
      ],
      "metadata": {
        "colab": {
          "base_uri": "https://localhost:8080/"
        },
        "id": "m-0rIePb61vX",
        "outputId": "01f0cad3-8307-4984-80a8-42c4e055ab20"
      },
      "execution_count": 43,
      "outputs": [
        {
          "output_type": "execute_result",
          "data": {
            "text/plain": [
              "6"
            ]
          },
          "metadata": {},
          "execution_count": 43
        }
      ]
    },
    {
      "cell_type": "code",
      "source": [
        "# we have to select maximum 40% sentences out of all sentences\n",
        "\n",
        "summary = nlargest(select_length, sentence_scores, key = sentence_scores.get)\n",
        "summary"
      ],
      "metadata": {
        "colab": {
          "base_uri": "https://localhost:8080/"
        },
        "id": "qnnoIvmM61sX",
        "outputId": "664fe4cf-8f0f-4182-986e-98525898616a"
      },
      "execution_count": 44,
      "outputs": [
        {
          "output_type": "execute_result",
          "data": {
            "text/plain": [
              "[An example of a summarization problem is document summarization, which attempts to automatically produce an abstract from a given document.,\n",
              " The first is generic summarization, which focuses on obtaining a generic summary or abstract of the collection (whether documents, or sets of images, or videos, news stories etc.).,\n",
              " The second is query relevant summarization, sometimes called query-based summarization, which summarizes objects specific to a query.,\n",
              " Summarization systems are able to create both query relevant text summaries and generic machine-generated summaries depending on what the user needs.,\n",
              " Image collection summarization is another application example of automatic summarization.,\n",
              " Imagine a system, which automatically pulls together news articles on a given topic (from the web), and concisely represents the latest news as a summary.]"
            ]
          },
          "metadata": {},
          "execution_count": 44
        }
      ]
    },
    {
      "cell_type": "code",
      "source": [
        "# if i need to combine these top 3 sentences then\n",
        "final_summary = [word.text for word in summary]"
      ],
      "metadata": {
        "id": "kD1R4gHB7iPq"
      },
      "execution_count": 45,
      "outputs": []
    },
    {
      "cell_type": "code",
      "source": [
        "final_summary"
      ],
      "metadata": {
        "colab": {
          "base_uri": "https://localhost:8080/"
        },
        "id": "uZ26Wm3K8QKe",
        "outputId": "fb4d1120-8830-42e4-cf07-024f3dc3c024"
      },
      "execution_count": 46,
      "outputs": [
        {
          "output_type": "execute_result",
          "data": {
            "text/plain": [
              "['An example of a summarization problem is document summarization, which attempts to automatically produce an abstract from a given document.',\n",
              " 'The first is generic summarization, which focuses on obtaining a generic summary or abstract of the collection (whether documents, or sets of images, or videos, news stories etc.).',\n",
              " 'The second is query relevant summarization, sometimes called query-based summarization, which summarizes objects specific to a query.',\n",
              " 'Summarization systems are able to create both query relevant text summaries and generic machine-generated summaries depending on what the user needs.\\n',\n",
              " 'Image collection summarization is another application example of automatic summarization.',\n",
              " 'Imagine a system, which automatically pulls together news articles on a given topic (from the web), and concisely represents the latest news as a summary.\\n']"
            ]
          },
          "metadata": {},
          "execution_count": 46
        }
      ]
    },
    {
      "cell_type": "code",
      "source": [
        "print(summary)"
      ],
      "metadata": {
        "colab": {
          "base_uri": "https://localhost:8080/"
        },
        "id": "HR3LRZV78RfP",
        "outputId": "84cf2919-8dd9-46ff-d72b-5f7f6caa832a"
      },
      "execution_count": 47,
      "outputs": [
        {
          "output_type": "stream",
          "name": "stdout",
          "text": [
            "[An example of a summarization problem is document summarization, which attempts to automatically produce an abstract from a given document., The first is generic summarization, which focuses on obtaining a generic summary or abstract of the collection (whether documents, or sets of images, or videos, news stories etc.)., The second is query relevant summarization, sometimes called query-based summarization, which summarizes objects specific to a query., Summarization systems are able to create both query relevant text summaries and generic machine-generated summaries depending on what the user needs.\n",
            ", Image collection summarization is another application example of automatic summarization., Imagine a system, which automatically pulls together news articles on a given topic (from the web), and concisely represents the latest news as a summary.\n",
            "]\n"
          ]
        }
      ]
    },
    {
      "cell_type": "code",
      "source": [],
      "metadata": {
        "id": "qpDQqs_E8S_d"
      },
      "execution_count": null,
      "outputs": []
    }
  ]
}